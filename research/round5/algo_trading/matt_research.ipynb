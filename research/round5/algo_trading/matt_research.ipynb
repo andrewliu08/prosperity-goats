{
 "cells": [
  {
   "cell_type": "code",
   "execution_count": 2,
   "metadata": {},
   "outputs": [],
   "source": [
    "import numpy as np\n",
    "import pandas as pd\n",
    "import matplotlib.pyplot as plt"
   ]
  },
  {
   "cell_type": "code",
   "execution_count": 3,
   "metadata": {},
   "outputs": [],
   "source": [
    "round1_1 = pd.read_csv('data/trades_round_1_day_-2_wn.csv', sep=';')\n",
    "round1_2 = pd.read_csv('data/trades_round_1_day_-1_wn.csv', sep=';')\n",
    "round1_3 = pd.read_csv('data/trades_round_1_day_0_wn.csv', sep=';')\n",
    "\n",
    "round3_1 = pd.read_csv('data/trades_round_3_day_0_wn.csv', sep=';')\n",
    "round3_2 = pd.read_csv('data/trades_round_3_day_1_wn.csv', sep=';')\n",
    "round3_3 = pd.read_csv('data/trades_round_3_day_2_wn.csv', sep=';')\n",
    "\n",
    "round4_1 = pd.read_csv('data/trades_round_4_day_1_wn.csv', sep=';')\n",
    "round4_2 = pd.read_csv('data/trades_round_4_day_2_wn.csv', sep=';')\n",
    "round4_3 = pd.read_csv('data/trades_round_4_day_3_wn.csv', sep=';')\n",
    "\n",
    "SEASHELLS = \"SEASHELLS\"\n",
    "AMETHYSTS = \"AMETHYSTS\"\n",
    "STARFRUIT = \"STARFRUIT\"\n",
    "ORCHIDS = \"ORCHIDS\"\n",
    "CHOCOLATE = \"CHOCOLATE\"\n",
    "STRAWBERRIES = \"STRAWBERRIES\"\n",
    "ROSES = \"ROSES\"\n",
    "GIFT_BASKET = \"GIFT_BASKET\"\n",
    "COCONUT = \"COCONUT\"\n",
    "COCONUT_COUPON = \"COCONUT_COUPON\"\n",
    "\n",
    "r1_products = [AMETHYSTS, STARFRUIT]\n",
    "r3_products = [CHOCOLATE, STRAWBERRIES, ROSES, GIFT_BASKET]\n",
    "r4_products = [COCONUT, COCONUT_COUPON]"
   ]
  },
  {
   "cell_type": "code",
   "execution_count": 4,
   "metadata": {},
   "outputs": [],
   "source": [
    "round_1 = pd.concat([round1_1, round1_2, round1_3])\n",
    "round_3 = pd.concat([round3_1, round3_2, round3_3])\n",
    "round_4 = pd.concat([round4_1, round4_2, round4_3])\n",
    "\n",
    "r1_traders = round_1[\"buyer\"].unique()\n",
    "r3_traders = round_3[\"buyer\"].unique()\n",
    "r4_traders = round_4[\"buyer\"].unique()"
   ]
  },
  {
   "cell_type": "code",
   "execution_count": 5,
   "metadata": {},
   "outputs": [],
   "source": [
    "# Trader PnLs\n",
    "\n",
    "def calc_pnl(trader, trades):\n",
    "    buys = trades.apply(lambda row: -row[\"price\"] * row[\"quantity\"] if row[\"buyer\"] == trader else 0, axis=1)\n",
    "    sells = trades.apply(lambda row: row[\"price\"] * row[\"quantity\"] if row[\"seller\"] == trader else 0, axis=1)\n",
    "    pnl = buys.sum() + sells.sum()\n",
    "    return pnl\n",
    "\n",
    "r1_pnls = {trader: {} for trader in r1_traders}\n",
    "r3_pnls = {trader: {} for trader in r3_traders}\n",
    "r4_pnls = {trader: {} for trader in r4_traders}\n",
    "\n",
    "\n",
    "for trader in r1_traders:\n",
    "    data = {product: round_1[round_1[\"symbol\"] == product] for product in r1_products}\n",
    "    for product, trades in data.items():\n",
    "        r1_pnls[trader][product] = calc_pnl(trader, trades)\n",
    "\n",
    "for trader in r3_traders:\n",
    "    data = {product: round_3[round_3[\"symbol\"] == product] for product in r3_products}\n",
    "    for product, trades in data.items():\n",
    "        r3_pnls[trader][product] = calc_pnl(trader, trades)\n",
    "\n",
    "for trader in r4_traders:\n",
    "    data = {product: round_4[round_4[\"symbol\"] == product] for product in r4_products}\n",
    "    for product, trades in data.items():\n",
    "        r4_pnls[trader][product] = calc_pnl(trader, trades)"
   ]
  },
  {
   "cell_type": "code",
   "execution_count": 6,
   "metadata": {},
   "outputs": [
    {
     "name": "stdout",
     "output_type": "stream",
     "text": [
      "{'Valentina': {'COCONUT': 0, 'COCONUT_COUPON': -16348214.0}, 'Vinnie': {'COCONUT': -1426891.0, 'COCONUT_COUPON': 14236071.0}, 'Vladimir': {'COCONUT': 0, 'COCONUT_COUPON': -478852.0}, 'Ruby': {'COCONUT': 0, 'COCONUT_COUPON': 256805.0}, 'Raj': {'COCONUT': 1103889.0, 'COCONUT_COUPON': 0}, 'Rhianna': {'COCONUT': 323002.0, 'COCONUT_COUPON': 2334190.0}}\n"
     ]
    }
   ],
   "source": [
    "print(r4_pnls)"
   ]
  }
 ],
 "metadata": {
  "kernelspec": {
   "display_name": "venv",
   "language": "python",
   "name": "python3"
  },
  "language_info": {
   "codemirror_mode": {
    "name": "ipython",
    "version": 3
   },
   "file_extension": ".py",
   "mimetype": "text/x-python",
   "name": "python",
   "nbconvert_exporter": "python",
   "pygments_lexer": "ipython3",
   "version": "3.11.4"
  }
 },
 "nbformat": 4,
 "nbformat_minor": 2
}
